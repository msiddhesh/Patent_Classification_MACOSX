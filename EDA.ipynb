{
  "cells": [
    {
      "cell_type": "code",
      "execution_count": 1,
      "metadata": {
        "id": "y6UauUZwtzzq"
      },
      "outputs": [],
      "source": [
        "import pandas as pd\n",
        "import numpy as np\n",
        "import matplotlib.pyplot as plt\n",
        "import seaborn as sns\n",
        "import nltk"
      ]
    },
    {
      "cell_type": "code",
      "execution_count": 2,
      "metadata": {
        "id": "ohxs3gPyt378"
      },
      "outputs": [],
      "source": [
        "Labler_namer = {1:\"Human Necessities\",2:\"Performing Operations; Transporting\",3: \"Chemistry; Metallurgy\",\n",
        "4: \"Textiles; Paper\",5: \"Fixed Constructions\",6: \"Mechanical Engineering; Lightning; Heating; Weapons; Blasting\",\n",
        "7: \"Physics\",8:\"Electricity\",9: \"General tagging of new or cross-sectional technology\" }"
      ]
    },
    {
      "cell_type": "code",
      "execution_count": 72,
      "metadata": {
        "colab": {
          "base_uri": "https://localhost:8080/"
        },
        "id": "cGq7L6-pt4ON",
        "outputId": "021eb0c7-683b-4e5c-d259-ab794dac26b3"
      },
      "outputs": [
        {
          "data": {
            "text/html": [
              "<div>\n",
              "<style scoped>\n",
              "    .dataframe tbody tr th:only-of-type {\n",
              "        vertical-align: middle;\n",
              "    }\n",
              "\n",
              "    .dataframe tbody tr th {\n",
              "        vertical-align: top;\n",
              "    }\n",
              "\n",
              "    .dataframe thead th {\n",
              "        text-align: right;\n",
              "    }\n",
              "</style>\n",
              "<table border=\"1\" class=\"dataframe\">\n",
              "  <thead>\n",
              "    <tr style=\"text-align: right;\">\n",
              "      <th></th>\n",
              "      <th>Label</th>\n",
              "      <th>Content</th>\n",
              "    </tr>\n",
              "  </thead>\n",
              "  <tbody>\n",
              "    <tr>\n",
              "      <th>0</th>\n",
              "      <td>2</td>\n",
              "      <td>second counting input 5 2 which receives inter...</td>\n",
              "    </tr>\n",
              "    <tr>\n",
              "      <th>1</th>\n",
              "      <td>4</td>\n",
              "      <td>extremely low temperature of the chips in cold...</td>\n",
              "    </tr>\n",
              "    <tr>\n",
              "      <th>2</th>\n",
              "      <td>3</td>\n",
              "      <td>of the basic ammonium salt of the carboxyl ate...</td>\n",
              "    </tr>\n",
              "    <tr>\n",
              "      <th>3</th>\n",
              "      <td>9</td>\n",
              "      <td>18 u2033 is provided which is axially supporte...</td>\n",
              "    </tr>\n",
              "    <tr>\n",
              "      <th>4</th>\n",
              "      <td>2</td>\n",
              "      <td>to an u201c inner surface u201d means the surf...</td>\n",
              "    </tr>\n",
              "    <tr>\n",
              "      <th>...</th>\n",
              "      <td>...</td>\n",
              "      <td>...</td>\n",
              "    </tr>\n",
              "    <tr>\n",
              "      <th>59114</th>\n",
              "      <td>1</td>\n",
              "      <td>skilled in the art will appreciate that variou...</td>\n",
              "    </tr>\n",
              "    <tr>\n",
              "      <th>59115</th>\n",
              "      <td>7</td>\n",
              "      <td>of work data that is typically encrypted with ...</td>\n",
              "    </tr>\n",
              "    <tr>\n",
              "      <th>59116</th>\n",
              "      <td>7</td>\n",
              "      <td>the supply side reel table 2 by a spring 6 the...</td>\n",
              "    </tr>\n",
              "    <tr>\n",
              "      <th>59117</th>\n",
              "      <td>7</td>\n",
              "      <td>detent roller 84 of detent element 80 into eng...</td>\n",
              "    </tr>\n",
              "    <tr>\n",
              "      <th>59118</th>\n",
              "      <td>7</td>\n",
              "      <td>laptop computer a rack mount computer system o...</td>\n",
              "    </tr>\n",
              "  </tbody>\n",
              "</table>\n",
              "<p>59119 rows × 2 columns</p>\n",
              "</div>"
            ],
            "text/plain": [
              "       Label                                            Content\n",
              "0          2  second counting input 5 2 which receives inter...\n",
              "1          4  extremely low temperature of the chips in cold...\n",
              "2          3  of the basic ammonium salt of the carboxyl ate...\n",
              "3          9  18 u2033 is provided which is axially supporte...\n",
              "4          2  to an u201c inner surface u201d means the surf...\n",
              "...      ...                                                ...\n",
              "59114      1  skilled in the art will appreciate that variou...\n",
              "59115      7  of work data that is typically encrypted with ...\n",
              "59116      7  the supply side reel table 2 by a spring 6 the...\n",
              "59117      7  detent roller 84 of detent element 80 into eng...\n",
              "59118      7  laptop computer a rack mount computer system o...\n",
              "\n",
              "[59119 rows x 2 columns]"
            ]
          },
          "execution_count": 72,
          "metadata": {},
          "output_type": "execute_result"
        }
      ],
      "source": [
        "# from google.colab import drive\n",
        "# drive.mount('/content/drive')\n",
        "# train = pd.read_csv(\"/content/drive/MyDrive/Project DataSets/train.csv\")\n",
        "# train = pd.read_csv(\"D:/project/DSSC_2024/train.csv\",encoding='latin-1')\n",
        "train = pd.read_csv(\"train.csv\",encoding=\"latin-1\")\n",
        "train"
      ]
    },
    {
      "cell_type": "code",
      "execution_count": 8,
      "metadata": {
        "colab": {
          "base_uri": "https://localhost:8080/"
        },
        "id": "DC7-AMoNt6cl",
        "outputId": "f73cb426-d8e2-4537-ee93-0d64f507a176"
      },
      "outputs": [
        {
          "name": "stdout",
          "output_type": "stream",
          "text": [
            "Requirement already satisfied: gensim in /usr/local/lib/python3.10/dist-packages (4.3.2)\n",
            "Requirement already satisfied: numpy>=1.18.5 in /usr/local/lib/python3.10/dist-packages (from gensim) (1.25.2)\n",
            "Requirement already satisfied: scipy>=1.7.0 in /usr/local/lib/python3.10/dist-packages (from gensim) (1.11.4)\n",
            "Requirement already satisfied: smart-open>=1.8.1 in /usr/local/lib/python3.10/dist-packages (from gensim) (6.4.0)\n"
          ]
        }
      ],
      "source": [
        "# nltk.download('punkt')\n",
        "# %pip install gensim"
      ]
    },
    {
      "cell_type": "code",
      "execution_count": 4,
      "metadata": {
        "id": "ipkzhBdkuBVf"
      },
      "outputs": [],
      "source": [
        "train['word_count']=train.Content.apply(lambda x: len(nltk.word_tokenize(x)))"
      ]
    },
    {
      "cell_type": "code",
      "execution_count": 5,
      "metadata": {
        "id": "xGn3HBTMuDVo"
      },
      "outputs": [],
      "source": [
        "train['sent_count']=train['Content'].apply(lambda x: len(nltk.sent_tokenize(x)))"
      ]
    },
    {
      "cell_type": "code",
      "execution_count": 11,
      "metadata": {
        "colab": {
          "base_uri": "https://localhost:8080/"
        },
        "id": "-WAbWUCAuGwT",
        "outputId": "695da426-112e-439f-d641-537f66fc84cd"
      },
      "outputs": [
        {
          "name": "stderr",
          "output_type": "stream",
          "text": [
            "[nltk_data] Downloading package stopwords to /root/nltk_data...\n",
            "[nltk_data]   Package stopwords is already up-to-date!\n"
          ]
        },
        {
          "data": {
            "text/plain": [
              "True"
            ]
          },
          "execution_count": 11,
          "metadata": {},
          "output_type": "execute_result"
        }
      ],
      "source": [
        "# nltk.download('stopwords')"
      ]
    },
    {
      "cell_type": "code",
      "execution_count": 6,
      "metadata": {
        "id": "nA1szmPIuKJH"
      },
      "outputs": [],
      "source": [
        "from nltk.stem.porter import PorterStemmer\n",
        "ps=PorterStemmer()\n",
        "from nltk.corpus import stopwords\n",
        "st_words = stopwords.words('english')"
      ]
    },
    {
      "cell_type": "code",
      "execution_count": 7,
      "metadata": {
        "id": "lv7b6zOtuL98"
      },
      "outputs": [],
      "source": [
        "def transform_text(text):\n",
        "    x=text.lower()\n",
        "    x=nltk.word_tokenize(x)\n",
        "    text=[]\n",
        "    for i in x:\n",
        "        if i.isalnum() and i not in st_words:\n",
        "            text.append(ps.stem(i))\n",
        "    return ' '.join(text)"
      ]
    },
    {
      "cell_type": "code",
      "execution_count": 13,
      "metadata": {
        "id": "PwpE9-q_uVvQ"
      },
      "outputs": [],
      "source": []
    },
    {
      "cell_type": "code",
      "execution_count": 34,
      "metadata": {
        "id": "GDBPelt9uQlE"
      },
      "outputs": [],
      "source": [
        "train['transformed_Content']=train['Content'].apply(transform_text)"
      ]
    },
    {
      "cell_type": "code",
      "execution_count": 9,
      "metadata": {
        "colab": {
          "base_uri": "https://localhost:8080/"
        },
        "id": "Xdb-gmefuWUJ",
        "outputId": "eb61dce5-1935-47f0-a2ce-7907de93e0f2"
      },
      "outputs": [
        {
          "data": {
            "text/html": [
              "<div>\n",
              "<style scoped>\n",
              "    .dataframe tbody tr th:only-of-type {\n",
              "        vertical-align: middle;\n",
              "    }\n",
              "\n",
              "    .dataframe tbody tr th {\n",
              "        vertical-align: top;\n",
              "    }\n",
              "\n",
              "    .dataframe thead th {\n",
              "        text-align: right;\n",
              "    }\n",
              "</style>\n",
              "<table border=\"1\" class=\"dataframe\">\n",
              "  <thead>\n",
              "    <tr style=\"text-align: right;\">\n",
              "      <th></th>\n",
              "      <th>Label</th>\n",
              "      <th>Content</th>\n",
              "      <th>word_count</th>\n",
              "      <th>sent_count</th>\n",
              "      <th>transformed_Content</th>\n",
              "    </tr>\n",
              "  </thead>\n",
              "  <tbody>\n",
              "    <tr>\n",
              "      <th>0</th>\n",
              "      <td>2</td>\n",
              "      <td>second counting input 5 2 which receives inter...</td>\n",
              "      <td>282</td>\n",
              "      <td>1</td>\n",
              "      <td>second count input 5 2 receiv intern control d...</td>\n",
              "    </tr>\n",
              "    <tr>\n",
              "      <th>1</th>\n",
              "      <td>4</td>\n",
              "      <td>extremely low temperature of the chips in cold...</td>\n",
              "      <td>231</td>\n",
              "      <td>1</td>\n",
              "      <td>extrem low temperatur chip cold season chip li...</td>\n",
              "    </tr>\n",
              "    <tr>\n",
              "      <th>2</th>\n",
              "      <td>3</td>\n",
              "      <td>of the basic ammonium salt of the carboxyl ate...</td>\n",
              "      <td>230</td>\n",
              "      <td>1</td>\n",
              "      <td>basic ammonium salt carboxyl ate water solubl ...</td>\n",
              "    </tr>\n",
              "    <tr>\n",
              "      <th>3</th>\n",
              "      <td>9</td>\n",
              "      <td>18 u2033 is provided which is axially supporte...</td>\n",
              "      <td>289</td>\n",
              "      <td>1</td>\n",
              "      <td>18 u2033 provid axial support crankshaft 16 vi...</td>\n",
              "    </tr>\n",
              "    <tr>\n",
              "      <th>4</th>\n",
              "      <td>2</td>\n",
              "      <td>to an u201c inner surface u201d means the surf...</td>\n",
              "      <td>286</td>\n",
              "      <td>1</td>\n",
              "      <td>u201c inner surfac u201d mean surfac layer awa...</td>\n",
              "    </tr>\n",
              "    <tr>\n",
              "      <th>5</th>\n",
              "      <td>2</td>\n",
              "      <td>dispenser 79 is completely opened the top can ...</td>\n",
              "      <td>254</td>\n",
              "      <td>1</td>\n",
              "      <td>dispens 79 complet open top c fall basket form...</td>\n",
              "    </tr>\n",
              "    <tr>\n",
              "      <th>6</th>\n",
              "      <td>7</td>\n",
              "      <td>strong and sharply defined magnetic fields ema...</td>\n",
              "      <td>227</td>\n",
              "      <td>1</td>\n",
              "      <td>strong sharpli defin magnet field eman pole ti...</td>\n",
              "    </tr>\n",
              "    <tr>\n",
              "      <th>7</th>\n",
              "      <td>7</td>\n",
              "      <td>the current in nmos transistor m 1 equals the ...</td>\n",
              "      <td>301</td>\n",
              "      <td>1</td>\n",
              "      <td>current nmo transistor 1 equal sum current ntm...</td>\n",
              "    </tr>\n",
              "    <tr>\n",
              "      <th>8</th>\n",
              "      <td>9</td>\n",
              "      <td>so the endophyte can be detected by this proce...</td>\n",
              "      <td>293</td>\n",
              "      <td>1</td>\n",
              "      <td>endophyt detect procedur result neotyphodium e...</td>\n",
              "    </tr>\n",
              "    <tr>\n",
              "      <th>9</th>\n",
              "      <td>5</td>\n",
              "      <td>b is affixed by convenient means not shown to ...</td>\n",
              "      <td>208</td>\n",
              "      <td>1</td>\n",
              "      <td>b affix conveni mean shown sourc shown oxygen ...</td>\n",
              "    </tr>\n",
              "    <tr>\n",
              "      <th>10</th>\n",
              "      <td>4</td>\n",
              "      <td>water glycerol poly ethylene glycol and silico...</td>\n",
              "      <td>212</td>\n",
              "      <td>1</td>\n",
              "      <td>water glycerol poli ethylen glycol silicon oil...</td>\n",
              "    </tr>\n",
              "    <tr>\n",
              "      <th>11</th>\n",
              "      <td>4</td>\n",
              "      <td>regions in the vicinity of the walls of the co...</td>\n",
              "      <td>290</td>\n",
              "      <td>1</td>\n",
              "      <td>region vicin wall counter flow chamber 120 mig...</td>\n",
              "    </tr>\n",
              "    <tr>\n",
              "      <th>12</th>\n",
              "      <td>9</td>\n",
              "      <td>foldable caster particularly suited for use wi...</td>\n",
              "      <td>211</td>\n",
              "      <td>1</td>\n",
              "      <td>foldabl caster particularli suit use swim pool...</td>\n",
              "    </tr>\n",
              "    <tr>\n",
              "      <th>13</th>\n",
              "      <td>6</td>\n",
              "      <td>the arrow aperture 5 the detachable nock 9 is ...</td>\n",
              "      <td>241</td>\n",
              "      <td>1</td>\n",
              "      <td>arrow apertur 5 detach nock 9 use remov locat ...</td>\n",
              "    </tr>\n",
              "    <tr>\n",
              "      <th>14</th>\n",
              "      <td>4</td>\n",
              "      <td>plate portion 90 has a forwardly extending tab...</td>\n",
              "      <td>283</td>\n",
              "      <td>1</td>\n",
              "      <td>plate portion 90 forwardli extend tab 102 spac...</td>\n",
              "    </tr>\n",
              "    <tr>\n",
              "      <th>15</th>\n",
              "      <td>8</td>\n",
              "      <td>surface where the electronic loads are placed ...</td>\n",
              "      <td>220</td>\n",
              "      <td>1</td>\n",
              "      <td>surfac electron load place prefer embodi inven...</td>\n",
              "    </tr>\n",
              "    <tr>\n",
              "      <th>16</th>\n",
              "      <td>1</td>\n",
              "      <td>wavelengths or wavelength ranges or selected w...</td>\n",
              "      <td>238</td>\n",
              "      <td>1</td>\n",
              "      <td>wavelength wavelength rang select wavelength s...</td>\n",
              "    </tr>\n",
              "    <tr>\n",
              "      <th>17</th>\n",
              "      <td>3</td>\n",
              "      <td>present invention is concerned with compounds ...</td>\n",
              "      <td>261</td>\n",
              "      <td>1</td>\n",
              "      <td>present invent concern compound formula wherei...</td>\n",
              "    </tr>\n",
              "    <tr>\n",
              "      <th>18</th>\n",
              "      <td>9</td>\n",
              "      <td>these compounds are prepared by generally know...</td>\n",
              "      <td>279</td>\n",
              "      <td>1</td>\n",
              "      <td>compound prepar gener known prepar reaction ex...</td>\n",
              "    </tr>\n",
              "    <tr>\n",
              "      <th>19</th>\n",
              "      <td>8</td>\n",
              "      <td>could alternatively be provided also in the pr...</td>\n",
              "      <td>260</td>\n",
              "      <td>1</td>\n",
              "      <td>could altern provid also prefer embodi interf ...</td>\n",
              "    </tr>\n",
              "  </tbody>\n",
              "</table>\n",
              "</div>"
            ],
            "text/plain": [
              "    Label                                            Content  word_count  \\\n",
              "0       2  second counting input 5 2 which receives inter...         282   \n",
              "1       4  extremely low temperature of the chips in cold...         231   \n",
              "2       3  of the basic ammonium salt of the carboxyl ate...         230   \n",
              "3       9  18 u2033 is provided which is axially supporte...         289   \n",
              "4       2  to an u201c inner surface u201d means the surf...         286   \n",
              "5       2  dispenser 79 is completely opened the top can ...         254   \n",
              "6       7  strong and sharply defined magnetic fields ema...         227   \n",
              "7       7  the current in nmos transistor m 1 equals the ...         301   \n",
              "8       9  so the endophyte can be detected by this proce...         293   \n",
              "9       5  b is affixed by convenient means not shown to ...         208   \n",
              "10      4  water glycerol poly ethylene glycol and silico...         212   \n",
              "11      4  regions in the vicinity of the walls of the co...         290   \n",
              "12      9  foldable caster particularly suited for use wi...         211   \n",
              "13      6  the arrow aperture 5 the detachable nock 9 is ...         241   \n",
              "14      4  plate portion 90 has a forwardly extending tab...         283   \n",
              "15      8  surface where the electronic loads are placed ...         220   \n",
              "16      1  wavelengths or wavelength ranges or selected w...         238   \n",
              "17      3  present invention is concerned with compounds ...         261   \n",
              "18      9  these compounds are prepared by generally know...         279   \n",
              "19      8  could alternatively be provided also in the pr...         260   \n",
              "\n",
              "    sent_count                                transformed_Content  \n",
              "0            1  second count input 5 2 receiv intern control d...  \n",
              "1            1  extrem low temperatur chip cold season chip li...  \n",
              "2            1  basic ammonium salt carboxyl ate water solubl ...  \n",
              "3            1  18 u2033 provid axial support crankshaft 16 vi...  \n",
              "4            1  u201c inner surfac u201d mean surfac layer awa...  \n",
              "5            1  dispens 79 complet open top c fall basket form...  \n",
              "6            1  strong sharpli defin magnet field eman pole ti...  \n",
              "7            1  current nmo transistor 1 equal sum current ntm...  \n",
              "8            1  endophyt detect procedur result neotyphodium e...  \n",
              "9            1  b affix conveni mean shown sourc shown oxygen ...  \n",
              "10           1  water glycerol poli ethylen glycol silicon oil...  \n",
              "11           1  region vicin wall counter flow chamber 120 mig...  \n",
              "12           1  foldabl caster particularli suit use swim pool...  \n",
              "13           1  arrow apertur 5 detach nock 9 use remov locat ...  \n",
              "14           1  plate portion 90 forwardli extend tab 102 spac...  \n",
              "15           1  surfac electron load place prefer embodi inven...  \n",
              "16           1  wavelength wavelength rang select wavelength s...  \n",
              "17           1  present invent concern compound formula wherei...  \n",
              "18           1  compound prepar gener known prepar reaction ex...  \n",
              "19           1  could altern provid also prefer embodi interf ...  "
            ]
          },
          "execution_count": 9,
          "metadata": {},
          "output_type": "execute_result"
        }
      ],
      "source": [
        "train.head(20)"
      ]
    },
    {
      "cell_type": "code",
      "execution_count": 20,
      "metadata": {},
      "outputs": [],
      "source": [
        "processed_data = train[[\"Label\",\"transformed_Content\"]]"
      ]
    },
    {
      "cell_type": "code",
      "execution_count": 21,
      "metadata": {},
      "outputs": [
        {
          "data": {
            "text/html": [
              "<div>\n",
              "<style scoped>\n",
              "    .dataframe tbody tr th:only-of-type {\n",
              "        vertical-align: middle;\n",
              "    }\n",
              "\n",
              "    .dataframe tbody tr th {\n",
              "        vertical-align: top;\n",
              "    }\n",
              "\n",
              "    .dataframe thead th {\n",
              "        text-align: right;\n",
              "    }\n",
              "</style>\n",
              "<table border=\"1\" class=\"dataframe\">\n",
              "  <thead>\n",
              "    <tr style=\"text-align: right;\">\n",
              "      <th></th>\n",
              "      <th>Label</th>\n",
              "      <th>transformed_Content</th>\n",
              "    </tr>\n",
              "  </thead>\n",
              "  <tbody>\n",
              "    <tr>\n",
              "      <th>0</th>\n",
              "      <td>2</td>\n",
              "      <td>second count input 5 2 receiv intern control d...</td>\n",
              "    </tr>\n",
              "    <tr>\n",
              "      <th>1</th>\n",
              "      <td>4</td>\n",
              "      <td>extrem low temperatur chip cold season chip li...</td>\n",
              "    </tr>\n",
              "    <tr>\n",
              "      <th>2</th>\n",
              "      <td>3</td>\n",
              "      <td>basic ammonium salt carboxyl ate water solubl ...</td>\n",
              "    </tr>\n",
              "    <tr>\n",
              "      <th>3</th>\n",
              "      <td>9</td>\n",
              "      <td>18 u2033 provid axial support crankshaft 16 vi...</td>\n",
              "    </tr>\n",
              "    <tr>\n",
              "      <th>4</th>\n",
              "      <td>2</td>\n",
              "      <td>u201c inner surfac u201d mean surfac layer awa...</td>\n",
              "    </tr>\n",
              "    <tr>\n",
              "      <th>...</th>\n",
              "      <td>...</td>\n",
              "      <td>...</td>\n",
              "    </tr>\n",
              "    <tr>\n",
              "      <th>59114</th>\n",
              "      <td>1</td>\n",
              "      <td>skill art appreci variou fill secur method env...</td>\n",
              "    </tr>\n",
              "    <tr>\n",
              "      <th>59115</th>\n",
              "      <td>7</td>\n",
              "      <td>work data typic encrypt encrypt algorithm encr...</td>\n",
              "    </tr>\n",
              "    <tr>\n",
              "      <th>59116</th>\n",
              "      <td>7</td>\n",
              "      <td>suppli side reel tabl 2 spring 6 brake arm 4 b...</td>\n",
              "    </tr>\n",
              "    <tr>\n",
              "      <th>59117</th>\n",
              "      <td>7</td>\n",
              "      <td>detent roller 84 detent element 80 engag surfa...</td>\n",
              "    </tr>\n",
              "    <tr>\n",
              "      <th>59118</th>\n",
              "      <td>7</td>\n",
              "      <td>laptop comput rack mount comput system desir c...</td>\n",
              "    </tr>\n",
              "  </tbody>\n",
              "</table>\n",
              "<p>59119 rows × 2 columns</p>\n",
              "</div>"
            ],
            "text/plain": [
              "       Label                                transformed_Content\n",
              "0          2  second count input 5 2 receiv intern control d...\n",
              "1          4  extrem low temperatur chip cold season chip li...\n",
              "2          3  basic ammonium salt carboxyl ate water solubl ...\n",
              "3          9  18 u2033 provid axial support crankshaft 16 vi...\n",
              "4          2  u201c inner surfac u201d mean surfac layer awa...\n",
              "...      ...                                                ...\n",
              "59114      1  skill art appreci variou fill secur method env...\n",
              "59115      7  work data typic encrypt encrypt algorithm encr...\n",
              "59116      7  suppli side reel tabl 2 spring 6 brake arm 4 b...\n",
              "59117      7  detent roller 84 detent element 80 engag surfa...\n",
              "59118      7  laptop comput rack mount comput system desir c...\n",
              "\n",
              "[59119 rows x 2 columns]"
            ]
          },
          "execution_count": 21,
          "metadata": {},
          "output_type": "execute_result"
        }
      ],
      "source": [
        "processed_data"
      ]
    },
    {
      "cell_type": "code",
      "execution_count": 23,
      "metadata": {},
      "outputs": [],
      "source": [
        "processed_data.to_csv(\"processed.csv\",index = False)"
      ]
    },
    {
      "cell_type": "code",
      "execution_count": 24,
      "metadata": {},
      "outputs": [],
      "source": [
        "processed_data = pd.read_csv(\"processed.csv\",encoding=\"latin-1\")"
      ]
    },
    {
      "cell_type": "code",
      "execution_count": 25,
      "metadata": {},
      "outputs": [
        {
          "data": {
            "text/html": [
              "<div>\n",
              "<style scoped>\n",
              "    .dataframe tbody tr th:only-of-type {\n",
              "        vertical-align: middle;\n",
              "    }\n",
              "\n",
              "    .dataframe tbody tr th {\n",
              "        vertical-align: top;\n",
              "    }\n",
              "\n",
              "    .dataframe thead th {\n",
              "        text-align: right;\n",
              "    }\n",
              "</style>\n",
              "<table border=\"1\" class=\"dataframe\">\n",
              "  <thead>\n",
              "    <tr style=\"text-align: right;\">\n",
              "      <th></th>\n",
              "      <th>Label</th>\n",
              "      <th>transformed_Content</th>\n",
              "    </tr>\n",
              "  </thead>\n",
              "  <tbody>\n",
              "    <tr>\n",
              "      <th>0</th>\n",
              "      <td>2</td>\n",
              "      <td>second count input 5 2 receiv intern control d...</td>\n",
              "    </tr>\n",
              "    <tr>\n",
              "      <th>1</th>\n",
              "      <td>4</td>\n",
              "      <td>extrem low temperatur chip cold season chip li...</td>\n",
              "    </tr>\n",
              "    <tr>\n",
              "      <th>2</th>\n",
              "      <td>3</td>\n",
              "      <td>basic ammonium salt carboxyl ate water solubl ...</td>\n",
              "    </tr>\n",
              "    <tr>\n",
              "      <th>3</th>\n",
              "      <td>9</td>\n",
              "      <td>18 u2033 provid axial support crankshaft 16 vi...</td>\n",
              "    </tr>\n",
              "    <tr>\n",
              "      <th>4</th>\n",
              "      <td>2</td>\n",
              "      <td>u201c inner surfac u201d mean surfac layer awa...</td>\n",
              "    </tr>\n",
              "    <tr>\n",
              "      <th>...</th>\n",
              "      <td>...</td>\n",
              "      <td>...</td>\n",
              "    </tr>\n",
              "    <tr>\n",
              "      <th>59114</th>\n",
              "      <td>1</td>\n",
              "      <td>skill art appreci variou fill secur method env...</td>\n",
              "    </tr>\n",
              "    <tr>\n",
              "      <th>59115</th>\n",
              "      <td>7</td>\n",
              "      <td>work data typic encrypt encrypt algorithm encr...</td>\n",
              "    </tr>\n",
              "    <tr>\n",
              "      <th>59116</th>\n",
              "      <td>7</td>\n",
              "      <td>suppli side reel tabl 2 spring 6 brake arm 4 b...</td>\n",
              "    </tr>\n",
              "    <tr>\n",
              "      <th>59117</th>\n",
              "      <td>7</td>\n",
              "      <td>detent roller 84 detent element 80 engag surfa...</td>\n",
              "    </tr>\n",
              "    <tr>\n",
              "      <th>59118</th>\n",
              "      <td>7</td>\n",
              "      <td>laptop comput rack mount comput system desir c...</td>\n",
              "    </tr>\n",
              "  </tbody>\n",
              "</table>\n",
              "<p>59119 rows × 2 columns</p>\n",
              "</div>"
            ],
            "text/plain": [
              "       Label                                transformed_Content\n",
              "0          2  second count input 5 2 receiv intern control d...\n",
              "1          4  extrem low temperatur chip cold season chip li...\n",
              "2          3  basic ammonium salt carboxyl ate water solubl ...\n",
              "3          9  18 u2033 provid axial support crankshaft 16 vi...\n",
              "4          2  u201c inner surfac u201d mean surfac layer awa...\n",
              "...      ...                                                ...\n",
              "59114      1  skill art appreci variou fill secur method env...\n",
              "59115      7  work data typic encrypt encrypt algorithm encr...\n",
              "59116      7  suppli side reel tabl 2 spring 6 brake arm 4 b...\n",
              "59117      7  detent roller 84 detent element 80 engag surfa...\n",
              "59118      7  laptop comput rack mount comput system desir c...\n",
              "\n",
              "[59119 rows x 2 columns]"
            ]
          },
          "execution_count": 25,
          "metadata": {},
          "output_type": "execute_result"
        }
      ],
      "source": [
        "processed_data"
      ]
    },
    {
      "cell_type": "code",
      "execution_count": 19,
      "metadata": {},
      "outputs": [
        {
          "name": "stdout",
          "output_type": "stream",
          "text": [
            "transformed_Content\n",
            "1           62575\n",
            "may         62403\n",
            "2           58895\n",
            "use         51303\n",
            "shown       41260\n",
            "            ...  \n",
            "25173105        1\n",
            "2532967         1\n",
            "subsegu         1\n",
            "copilot         1\n",
            "airstrok        1\n",
            "Name: count, Length: 85698, dtype: int64\n"
          ]
        }
      ],
      "source": [
        "word_counts = processed_data['transformed_Content'].str.split().explode().value_counts()\n",
        "\n",
        "# Display the word counts\n",
        "print(word_counts)"
      ]
    },
    {
      "cell_type": "code",
      "execution_count": 26,
      "metadata": {},
      "outputs": [],
      "source": [
        "def remove_numeric_words(text):\n",
        "    words = text.split()\n",
        "    cleaned_words = [word for word in words if not word.isdigit()]\n",
        "    return ' '.join(cleaned_words)"
      ]
    },
    {
      "cell_type": "code",
      "execution_count": null,
      "metadata": {},
      "outputs": [
        {
          "name": "stdout",
          "output_type": "stream",
          "text": [
            "Requirement already satisfied: gensim in /usr/local/lib/python3.10/dist-packages (4.3.2)\n",
            "Requirement already satisfied: numpy>=1.18.5 in /usr/local/lib/python3.10/dist-packages (from gensim) (1.25.2)\n",
            "Requirement already satisfied: scipy>=1.7.0 in /usr/local/lib/python3.10/dist-packages (from gensim) (1.11.4)\n",
            "Requirement already satisfied: smart-open>=1.8.1 in /usr/local/lib/python3.10/dist-packages (from gensim) (6.4.0)\n"
          ]
        }
      ],
      "source": [
        "# nltk.download('punkt')\n",
        "# %pip install gensim"
      ]
    },
    {
      "cell_type": "code",
      "execution_count": 38,
      "metadata": {},
      "outputs": [],
      "source": [
        "df_1 = processed_data"
      ]
    },
    {
      "cell_type": "code",
      "execution_count": 39,
      "metadata": {},
      "outputs": [
        {
          "name": "stdout",
          "output_type": "stream",
          "text": [
            "<class 'pandas.core.frame.DataFrame'>\n",
            "RangeIndex: 59119 entries, 0 to 59118\n",
            "Data columns (total 2 columns):\n",
            " #   Column               Non-Null Count  Dtype \n",
            "---  ------               --------------  ----- \n",
            " 0   Label                59119 non-null  int64 \n",
            " 1   transformed_Content  59119 non-null  object\n",
            "dtypes: int64(1), object(1)\n",
            "memory usage: 923.9+ KB\n"
          ]
        }
      ],
      "source": [
        "df_1.info()"
      ]
    },
    {
      "cell_type": "code",
      "execution_count": 40,
      "metadata": {},
      "outputs": [],
      "source": [
        "df_2 = df_1.copy()"
      ]
    },
    {
      "cell_type": "code",
      "execution_count": 42,
      "metadata": {},
      "outputs": [],
      "source": [
        "df_2 = df_1[[\"transformed_Content\"]]"
      ]
    },
    {
      "cell_type": "code",
      "execution_count": 43,
      "metadata": {},
      "outputs": [
        {
          "name": "stderr",
          "output_type": "stream",
          "text": [
            "C:\\Users\\mahes\\AppData\\Local\\Temp\\ipykernel_3968\\3577911974.py:1: FutureWarning: DataFrame.applymap has been deprecated. Use DataFrame.map instead.\n",
            "  df_3 = df_2.applymap(remove_numeric_words)\n"
          ]
        }
      ],
      "source": [
        "df_3 = df_2.applymap(remove_numeric_words)"
      ]
    },
    {
      "cell_type": "code",
      "execution_count": 44,
      "metadata": {},
      "outputs": [
        {
          "data": {
            "text/html": [
              "<div>\n",
              "<style scoped>\n",
              "    .dataframe tbody tr th:only-of-type {\n",
              "        vertical-align: middle;\n",
              "    }\n",
              "\n",
              "    .dataframe tbody tr th {\n",
              "        vertical-align: top;\n",
              "    }\n",
              "\n",
              "    .dataframe thead th {\n",
              "        text-align: right;\n",
              "    }\n",
              "</style>\n",
              "<table border=\"1\" class=\"dataframe\">\n",
              "  <thead>\n",
              "    <tr style=\"text-align: right;\">\n",
              "      <th></th>\n",
              "      <th>transformed_Content</th>\n",
              "    </tr>\n",
              "  </thead>\n",
              "  <tbody>\n",
              "    <tr>\n",
              "      <th>0</th>\n",
              "      <td>second count input receiv intern control devic...</td>\n",
              "    </tr>\n",
              "    <tr>\n",
              "      <th>1</th>\n",
              "      <td>extrem low temperatur chip cold season chip li...</td>\n",
              "    </tr>\n",
              "    <tr>\n",
              "      <th>2</th>\n",
              "      <td>basic ammonium salt carboxyl ate water solubl ...</td>\n",
              "    </tr>\n",
              "    <tr>\n",
              "      <th>3</th>\n",
              "      <td>u2033 provid axial support crankshaft via radi...</td>\n",
              "    </tr>\n",
              "    <tr>\n",
              "      <th>4</th>\n",
              "      <td>u201c inner surfac u201d mean surfac layer awa...</td>\n",
              "    </tr>\n",
              "    <tr>\n",
              "      <th>...</th>\n",
              "      <td>...</td>\n",
              "    </tr>\n",
              "    <tr>\n",
              "      <th>59114</th>\n",
              "      <td>skill art appreci variou fill secur method env...</td>\n",
              "    </tr>\n",
              "    <tr>\n",
              "      <th>59115</th>\n",
              "      <td>work data typic encrypt encrypt algorithm encr...</td>\n",
              "    </tr>\n",
              "    <tr>\n",
              "      <th>59116</th>\n",
              "      <td>suppli side reel tabl spring brake arm brake p...</td>\n",
              "    </tr>\n",
              "    <tr>\n",
              "      <th>59117</th>\n",
              "      <td>detent roller detent element engag surfac pivo...</td>\n",
              "    </tr>\n",
              "    <tr>\n",
              "      <th>59118</th>\n",
              "      <td>laptop comput rack mount comput system desir c...</td>\n",
              "    </tr>\n",
              "  </tbody>\n",
              "</table>\n",
              "<p>59119 rows × 1 columns</p>\n",
              "</div>"
            ],
            "text/plain": [
              "                                     transformed_Content\n",
              "0      second count input receiv intern control devic...\n",
              "1      extrem low temperatur chip cold season chip li...\n",
              "2      basic ammonium salt carboxyl ate water solubl ...\n",
              "3      u2033 provid axial support crankshaft via radi...\n",
              "4      u201c inner surfac u201d mean surfac layer awa...\n",
              "...                                                  ...\n",
              "59114  skill art appreci variou fill secur method env...\n",
              "59115  work data typic encrypt encrypt algorithm encr...\n",
              "59116  suppli side reel tabl spring brake arm brake p...\n",
              "59117  detent roller detent element engag surfac pivo...\n",
              "59118  laptop comput rack mount comput system desir c...\n",
              "\n",
              "[59119 rows x 1 columns]"
            ]
          },
          "execution_count": 44,
          "metadata": {},
          "output_type": "execute_result"
        }
      ],
      "source": [
        "df_3"
      ]
    },
    {
      "cell_type": "code",
      "execution_count": 54,
      "metadata": {},
      "outputs": [
        {
          "data": {
            "text/plain": [
              "transformed_Content\n",
              "may                    62403\n",
              "use                    51303\n",
              "shown                  41260\n",
              "one                    38922\n",
              "embodi                 38717\n",
              "                       ...  \n",
              "dihydrobenzofuryl          1\n",
              "dihydrobenzothienyl        1\n",
              "dihydrobenzopyranyl        1\n",
              "isochromanyl               1\n",
              "airstrok                   1\n",
              "Name: count, Length: 75207, dtype: int64"
            ]
          },
          "execution_count": 54,
          "metadata": {},
          "output_type": "execute_result"
        }
      ],
      "source": [
        "# word_counts = df_3['transformed_Content'].str.split().explode().value_counts()\n",
        "\n",
        "# Display the word counts\n",
        "\n",
        "word_counts"
      ]
    },
    {
      "cell_type": "code",
      "execution_count": 70,
      "metadata": {},
      "outputs": [],
      "source": [
        "df_4 = pd.concat([df_1[\"Label\"],df_3],axis=1)"
      ]
    },
    {
      "cell_type": "code",
      "execution_count": 55,
      "metadata": {},
      "outputs": [
        {
          "data": {
            "text/plain": [
              "7704190"
            ]
          },
          "execution_count": 55,
          "metadata": {},
          "output_type": "execute_result"
        }
      ],
      "source": [
        "toral = word_counts.sum()\n",
        "toral"
      ]
    },
    {
      "cell_type": "code",
      "execution_count": 71,
      "metadata": {},
      "outputs": [
        {
          "data": {
            "text/html": [
              "<div>\n",
              "<style scoped>\n",
              "    .dataframe tbody tr th:only-of-type {\n",
              "        vertical-align: middle;\n",
              "    }\n",
              "\n",
              "    .dataframe tbody tr th {\n",
              "        vertical-align: top;\n",
              "    }\n",
              "\n",
              "    .dataframe thead th {\n",
              "        text-align: right;\n",
              "    }\n",
              "</style>\n",
              "<table border=\"1\" class=\"dataframe\">\n",
              "  <thead>\n",
              "    <tr style=\"text-align: right;\">\n",
              "      <th></th>\n",
              "      <th>Label</th>\n",
              "      <th>transformed_Content</th>\n",
              "    </tr>\n",
              "  </thead>\n",
              "  <tbody>\n",
              "    <tr>\n",
              "      <th>0</th>\n",
              "      <td>2</td>\n",
              "      <td>second count input receiv intern control devic...</td>\n",
              "    </tr>\n",
              "    <tr>\n",
              "      <th>1</th>\n",
              "      <td>4</td>\n",
              "      <td>extrem low temperatur chip cold season chip li...</td>\n",
              "    </tr>\n",
              "    <tr>\n",
              "      <th>2</th>\n",
              "      <td>3</td>\n",
              "      <td>basic ammonium salt carboxyl ate water solubl ...</td>\n",
              "    </tr>\n",
              "    <tr>\n",
              "      <th>3</th>\n",
              "      <td>9</td>\n",
              "      <td>u2033 provid axial support crankshaft via radi...</td>\n",
              "    </tr>\n",
              "    <tr>\n",
              "      <th>4</th>\n",
              "      <td>2</td>\n",
              "      <td>u201c inner surfac u201d mean surfac layer awa...</td>\n",
              "    </tr>\n",
              "    <tr>\n",
              "      <th>...</th>\n",
              "      <td>...</td>\n",
              "      <td>...</td>\n",
              "    </tr>\n",
              "    <tr>\n",
              "      <th>59114</th>\n",
              "      <td>1</td>\n",
              "      <td>skill art appreci variou fill secur method env...</td>\n",
              "    </tr>\n",
              "    <tr>\n",
              "      <th>59115</th>\n",
              "      <td>7</td>\n",
              "      <td>work data typic encrypt encrypt algorithm encr...</td>\n",
              "    </tr>\n",
              "    <tr>\n",
              "      <th>59116</th>\n",
              "      <td>7</td>\n",
              "      <td>suppli side reel tabl spring brake arm brake p...</td>\n",
              "    </tr>\n",
              "    <tr>\n",
              "      <th>59117</th>\n",
              "      <td>7</td>\n",
              "      <td>detent roller detent element engag surfac pivo...</td>\n",
              "    </tr>\n",
              "    <tr>\n",
              "      <th>59118</th>\n",
              "      <td>7</td>\n",
              "      <td>laptop comput rack mount comput system desir c...</td>\n",
              "    </tr>\n",
              "  </tbody>\n",
              "</table>\n",
              "<p>59119 rows × 2 columns</p>\n",
              "</div>"
            ],
            "text/plain": [
              "       Label                                transformed_Content\n",
              "0          2  second count input receiv intern control devic...\n",
              "1          4  extrem low temperatur chip cold season chip li...\n",
              "2          3  basic ammonium salt carboxyl ate water solubl ...\n",
              "3          9  u2033 provid axial support crankshaft via radi...\n",
              "4          2  u201c inner surfac u201d mean surfac layer awa...\n",
              "...      ...                                                ...\n",
              "59114      1  skill art appreci variou fill secur method env...\n",
              "59115      7  work data typic encrypt encrypt algorithm encr...\n",
              "59116      7  suppli side reel tabl spring brake arm brake p...\n",
              "59117      7  detent roller detent element engag surfac pivo...\n",
              "59118      7  laptop comput rack mount comput system desir c...\n",
              "\n",
              "[59119 rows x 2 columns]"
            ]
          },
          "execution_count": 71,
          "metadata": {},
          "output_type": "execute_result"
        }
      ],
      "source": [
        "df_4"
      ]
    },
    {
      "cell_type": "code",
      "execution_count": 73,
      "metadata": {},
      "outputs": [],
      "source": [
        "df_4.to_csv(\"removed_number.csv\",index=False)"
      ]
    },
    {
      "cell_type": "code",
      "execution_count": 74,
      "metadata": {
        "id": "0wSyRzjTuYSg"
      },
      "outputs": [],
      "source": [
        "from sklearn.feature_extraction.text import CountVectorizer,TfidfVectorizer\n",
        "from sklearn.model_selection import train_test_split\n",
        "from sklearn.preprocessing import LabelEncoder\n",
        "from collections import Counter\n",
        "from sklearn.metrics import accuracy_score,confusion_matrix,precision_score\n",
        "from sklearn.naive_bayes import MultinomialNB,BernoulliNB,GaussianNB\n",
        "from sklearn.linear_model import LogisticRegression\n",
        "from sklearn.tree import DecisionTreeClassifier\n",
        "from sklearn.neighbors import KNeighborsClassifier\n",
        "from sklearn.ensemble import AdaBoostClassifier,RandomForestClassifier,BaggingClassifier,GradientBoostingClassifier,ExtraTreesClassifier\n",
        "from sklearn.svm import SVC\n",
        "from sklearn.ensemble import VotingClassifier"
      ]
    },
    {
      "cell_type": "code",
      "execution_count": 76,
      "metadata": {
        "id": "rRcas_2c264O"
      },
      "outputs": [],
      "source": [
        "from sklearn.model_selection import train_test_split"
      ]
    },
    {
      "cell_type": "code",
      "execution_count": 25,
      "metadata": {
        "id": "9hriPcNC47ze"
      },
      "outputs": [],
      "source": [
        "# df = train.sample(random_state=21,type)"
      ]
    },
    {
      "cell_type": "code",
      "execution_count": null,
      "metadata": {},
      "outputs": [],
      "source": []
    },
    {
      "cell_type": "code",
      "execution_count": 77,
      "metadata": {
        "colab": {
          "base_uri": "https://localhost:8080/"
        },
        "id": "9bTNFM436N5p",
        "outputId": "41352154-05f0-45fd-8f63-292a2abf3f89"
      },
      "outputs": [
        {
          "name": "stdout",
          "output_type": "stream",
          "text": [
            "Class distribution of train set\n",
            "Label\n",
            "8    2868\n",
            "7    2833\n",
            "6    2789\n",
            "2    2709\n",
            "1    2708\n",
            "5    2557\n",
            "3    2506\n",
            "4    2385\n",
            "9    2292\n",
            "Name: count, dtype: int64\n",
            "\n",
            "Class distribution of test set\n",
            "Label\n",
            "7    4310\n",
            "8    4234\n",
            "2    4107\n",
            "6    4098\n",
            "1    4048\n",
            "5    3910\n",
            "9    3669\n",
            "3    3553\n",
            "4    3543\n",
            "Name: count, dtype: int64\n"
          ]
        }
      ],
      "source": []
    },
    {
      "cell_type": "code",
      "execution_count": 78,
      "metadata": {
        "colab": {
          "base_uri": "https://localhost:8080/"
        },
        "id": "Uen9nXnO9k-S",
        "outputId": "1d1573cb-b6d3-4dc6-dbde-4c1267318e19"
      },
      "outputs": [
        {
          "data": {
            "text/plain": [
              "47502    yarn region occur regular wale locat along cou...\n",
              "50360    unit form shrunk ribbon element non shrunk rib...\n",
              "40950    segment could construct cut steel plate web sh...\n",
              "52788    u2248 u00b0 c solut ignit combust solut last m...\n",
              "38357    reserv accord also provid two methodolog compl...\n",
              "                               ...                        \n",
              "16432    side panel top panel best shown fig1 weaken li...\n",
              "8964     end fit illustr purpos thread featur shown int...\n",
              "5944     compos elast resili materi e g plastic order a...\n",
              "5327     match thick shank insert back end stiff shank ...\n",
              "15305    natur high moleculr weight linear polysacchari...\n",
              "Name: transformed_Content, Length: 23647, dtype: object"
            ]
          },
          "execution_count": 78,
          "metadata": {},
          "output_type": "execute_result"
        }
      ],
      "source": [
        "X_train"
      ]
    },
    {
      "cell_type": "code",
      "execution_count": 89,
      "metadata": {
        "id": "GTEX4-iH6ZFi"
      },
      "outputs": [],
      "source": [
        "cv = TfidfVectorizer()\n",
        "vec_data = cv.fit_transform(df_4[\"transformed_Content\"])"
      ]
    },
    {
      "cell_type": "code",
      "execution_count": null,
      "metadata": {},
      "outputs": [
        {
          "name": "stdout",
          "output_type": "stream",
          "text": [
            "Requirement already satisfied: gensim in /usr/local/lib/python3.10/dist-packages (4.3.2)\n",
            "Requirement already satisfied: numpy>=1.18.5 in /usr/local/lib/python3.10/dist-packages (from gensim) (1.25.2)\n",
            "Requirement already satisfied: scipy>=1.7.0 in /usr/local/lib/python3.10/dist-packages (from gensim) (1.11.4)\n",
            "Requirement already satisfied: smart-open>=1.8.1 in /usr/local/lib/python3.10/dist-packages (from gensim) (6.4.0)\n"
          ]
        }
      ],
      "source": [
        "# nltk.download('punkt')\n",
        "# %pip install gensim"
      ]
    },
    {
      "cell_type": "code",
      "execution_count": 96,
      "metadata": {},
      "outputs": [
        {
          "name": "stdout",
          "output_type": "stream",
          "text": [
            "Class distribution of train set\n",
            "Label\n",
            "8    5704\n",
            "7    5689\n",
            "6    5522\n",
            "2    5457\n",
            "1    5434\n",
            "5    5146\n",
            "3    4899\n",
            "9    4733\n",
            "4    4711\n",
            "Name: count, dtype: int64\n",
            "\n",
            "Class distribution of test set\n",
            "Label\n",
            "7    1454\n",
            "8    1398\n",
            "6    1365\n",
            "2    1359\n",
            "1    1322\n",
            "5    1321\n",
            "9    1228\n",
            "4    1217\n",
            "3    1160\n",
            "Name: count, dtype: int64\n"
          ]
        }
      ],
      "source": [
        "from sklearn.model_selection import train_test_split\n",
        "X_train, X_test, y_train, y_test= train_test_split(vec_data,df_4[\"Label\"], train_size=0.8,\n",
        "\t\t\t\t\t\t\t\t\t\t\t\trandom_state=21,\n",
        "\t\t\t\t\t\t\t\t\t\t\t\tshuffle=True, stratify=None)\n",
        "\n",
        "print(\"Class distribution of train set\")\n",
        "print(y_train.value_counts())\n",
        "print()\n",
        "print(\"Class distribution of test set\")\n",
        "print(y_test.value_counts())\n"
      ]
    },
    {
      "cell_type": "code",
      "execution_count": 97,
      "metadata": {
        "colab": {
          "base_uri": "https://localhost:8080/"
        },
        "id": "YRpU3Lku9pmi",
        "outputId": "a59ec44c-d854-4369-d3f7-385182a76202"
      },
      "outputs": [
        {
          "data": {
            "text/plain": [
              "(59119, 75187)"
            ]
          },
          "execution_count": 97,
          "metadata": {},
          "output_type": "execute_result"
        }
      ],
      "source": [
        "vec_data.shape"
      ]
    },
    {
      "cell_type": "code",
      "execution_count": 98,
      "metadata": {},
      "outputs": [],
      "source": [
        "# X_train, X_test, y_train, y_test= train_test_split(vec_data,y_train,train_size=0.2,\n",
        "# \t\t\t\t\t\t\t\t\t\t\t\trandom_state=21,\n",
        "# \t\t\t\t\t\t\t\t\t\t\t\tshuffle=True, stratify=None)"
      ]
    },
    {
      "cell_type": "code",
      "execution_count": 99,
      "metadata": {
        "id": "kWZNQ_JW6mJc"
      },
      "outputs": [],
      "source": [
        "# model1 =  RandomForestClassifier()"
      ]
    },
    {
      "cell_type": "code",
      "execution_count": 100,
      "metadata": {
        "id": "L_PwxWLk-GGA"
      },
      "outputs": [],
      "source": [
        "model1 = LogisticRegression()"
      ]
    },
    {
      "cell_type": "code",
      "execution_count": 101,
      "metadata": {
        "id": "ycL-1tQC6rDI"
      },
      "outputs": [
        {
          "name": "stderr",
          "output_type": "stream",
          "text": [
            "c:\\Users\\mahes\\AppData\\Local\\Programs\\Python\\Python312\\Lib\\site-packages\\sklearn\\linear_model\\_logistic.py:460: ConvergenceWarning: lbfgs failed to converge (status=1):\n",
            "STOP: TOTAL NO. of ITERATIONS REACHED LIMIT.\n",
            "\n",
            "Increase the number of iterations (max_iter) or scale the data as shown in:\n",
            "    https://scikit-learn.org/stable/modules/preprocessing.html\n",
            "Please also refer to the documentation for alternative solver options:\n",
            "    https://scikit-learn.org/stable/modules/linear_model.html#logistic-regression\n",
            "  n_iter_i = _check_optimize_result(\n"
          ]
        },
        {
          "data": {
            "text/html": [
              "<style>#sk-container-id-3 {color: black;}#sk-container-id-3 pre{padding: 0;}#sk-container-id-3 div.sk-toggleable {background-color: white;}#sk-container-id-3 label.sk-toggleable__label {cursor: pointer;display: block;width: 100%;margin-bottom: 0;padding: 0.3em;box-sizing: border-box;text-align: center;}#sk-container-id-3 label.sk-toggleable__label-arrow:before {content: \"▸\";float: left;margin-right: 0.25em;color: #696969;}#sk-container-id-3 label.sk-toggleable__label-arrow:hover:before {color: black;}#sk-container-id-3 div.sk-estimator:hover label.sk-toggleable__label-arrow:before {color: black;}#sk-container-id-3 div.sk-toggleable__content {max-height: 0;max-width: 0;overflow: hidden;text-align: left;background-color: #f0f8ff;}#sk-container-id-3 div.sk-toggleable__content pre {margin: 0.2em;color: black;border-radius: 0.25em;background-color: #f0f8ff;}#sk-container-id-3 input.sk-toggleable__control:checked~div.sk-toggleable__content {max-height: 200px;max-width: 100%;overflow: auto;}#sk-container-id-3 input.sk-toggleable__control:checked~label.sk-toggleable__label-arrow:before {content: \"▾\";}#sk-container-id-3 div.sk-estimator input.sk-toggleable__control:checked~label.sk-toggleable__label {background-color: #d4ebff;}#sk-container-id-3 div.sk-label input.sk-toggleable__control:checked~label.sk-toggleable__label {background-color: #d4ebff;}#sk-container-id-3 input.sk-hidden--visually {border: 0;clip: rect(1px 1px 1px 1px);clip: rect(1px, 1px, 1px, 1px);height: 1px;margin: -1px;overflow: hidden;padding: 0;position: absolute;width: 1px;}#sk-container-id-3 div.sk-estimator {font-family: monospace;background-color: #f0f8ff;border: 1px dotted black;border-radius: 0.25em;box-sizing: border-box;margin-bottom: 0.5em;}#sk-container-id-3 div.sk-estimator:hover {background-color: #d4ebff;}#sk-container-id-3 div.sk-parallel-item::after {content: \"\";width: 100%;border-bottom: 1px solid gray;flex-grow: 1;}#sk-container-id-3 div.sk-label:hover label.sk-toggleable__label {background-color: #d4ebff;}#sk-container-id-3 div.sk-serial::before {content: \"\";position: absolute;border-left: 1px solid gray;box-sizing: border-box;top: 0;bottom: 0;left: 50%;z-index: 0;}#sk-container-id-3 div.sk-serial {display: flex;flex-direction: column;align-items: center;background-color: white;padding-right: 0.2em;padding-left: 0.2em;position: relative;}#sk-container-id-3 div.sk-item {position: relative;z-index: 1;}#sk-container-id-3 div.sk-parallel {display: flex;align-items: stretch;justify-content: center;background-color: white;position: relative;}#sk-container-id-3 div.sk-item::before, #sk-container-id-3 div.sk-parallel-item::before {content: \"\";position: absolute;border-left: 1px solid gray;box-sizing: border-box;top: 0;bottom: 0;left: 50%;z-index: -1;}#sk-container-id-3 div.sk-parallel-item {display: flex;flex-direction: column;z-index: 1;position: relative;background-color: white;}#sk-container-id-3 div.sk-parallel-item:first-child::after {align-self: flex-end;width: 50%;}#sk-container-id-3 div.sk-parallel-item:last-child::after {align-self: flex-start;width: 50%;}#sk-container-id-3 div.sk-parallel-item:only-child::after {width: 0;}#sk-container-id-3 div.sk-dashed-wrapped {border: 1px dashed gray;margin: 0 0.4em 0.5em 0.4em;box-sizing: border-box;padding-bottom: 0.4em;background-color: white;}#sk-container-id-3 div.sk-label label {font-family: monospace;font-weight: bold;display: inline-block;line-height: 1.2em;}#sk-container-id-3 div.sk-label-container {text-align: center;}#sk-container-id-3 div.sk-container {/* jupyter's `normalize.less` sets `[hidden] { display: none; }` but bootstrap.min.css set `[hidden] { display: none !important; }` so we also need the `!important` here to be able to override the default hidden behavior on the sphinx rendered scikit-learn.org. See: https://github.com/scikit-learn/scikit-learn/issues/21755 */display: inline-block !important;position: relative;}#sk-container-id-3 div.sk-text-repr-fallback {display: none;}</style><div id=\"sk-container-id-3\" class=\"sk-top-container\"><div class=\"sk-text-repr-fallback\"><pre>LogisticRegression()</pre><b>In a Jupyter environment, please rerun this cell to show the HTML representation or trust the notebook. <br />On GitHub, the HTML representation is unable to render, please try loading this page with nbviewer.org.</b></div><div class=\"sk-container\" hidden><div class=\"sk-item\"><div class=\"sk-estimator sk-toggleable\"><input class=\"sk-toggleable__control sk-hidden--visually\" id=\"sk-estimator-id-3\" type=\"checkbox\" checked><label for=\"sk-estimator-id-3\" class=\"sk-toggleable__label sk-toggleable__label-arrow\">LogisticRegression</label><div class=\"sk-toggleable__content\"><pre>LogisticRegression()</pre></div></div></div></div></div>"
            ],
            "text/plain": [
              "LogisticRegression()"
            ]
          },
          "execution_count": 101,
          "metadata": {},
          "output_type": "execute_result"
        }
      ],
      "source": [
        "model1 = LogisticRegression()\n",
        "model1.fit(X_train, y_train)\n",
        "model1.score(X_test,y_test)"
      ]
    },
    {
      "cell_type": "code",
      "execution_count": 102,
      "metadata": {
        "id": "dE5sx9Uo7B9b"
      },
      "outputs": [
        {
          "data": {
            "text/plain": [
              "0.6458668110083052"
            ]
          },
          "execution_count": 102,
          "metadata": {},
          "output_type": "execute_result"
        }
      ],
      "source": [
        "model1.score(vec_data,df_4[\"Label\"])"
      ]
    },
    {
      "cell_type": "code",
      "execution_count": 103,
      "metadata": {},
      "outputs": [
        {
          "data": {
            "text/plain": [
              "0.5625845737483085"
            ]
          },
          "execution_count": 103,
          "metadata": {},
          "output_type": "execute_result"
        }
      ],
      "source": [
        "model1.score(X_test,y_test)"
      ]
    },
    {
      "cell_type": "code",
      "execution_count": 108,
      "metadata": {},
      "outputs": [],
      "source": [
        "model_2 = RandomForestClassifier(max_depth= 1000)\n",
        "model_2.fit(X_train, y_train)"
      ]
    },
    {
      "cell_type": "code",
      "execution_count": 111,
      "metadata": {},
      "outputs": [
        {
          "name": "stdout",
          "output_type": "stream",
          "text": [
            "Accuracy on train\n",
            "0.999957712231737\n",
            "Accuracy on test\n",
            "0.48604533152909335\n"
          ]
        }
      ],
      "source": [
        "print(\"Accuracy on train\")\n",
        "print(model_2.score(X_train,y_train))\n",
        "print(\"Accuracy on test\")\n",
        "print(model_2.score(X_test,y_test))"
      ]
    },
    {
      "cell_type": "code",
      "execution_count": 112,
      "metadata": {},
      "outputs": [
        {
          "data": {
            "text/html": [
              "<style>#sk-container-id-4 {color: black;}#sk-container-id-4 pre{padding: 0;}#sk-container-id-4 div.sk-toggleable {background-color: white;}#sk-container-id-4 label.sk-toggleable__label {cursor: pointer;display: block;width: 100%;margin-bottom: 0;padding: 0.3em;box-sizing: border-box;text-align: center;}#sk-container-id-4 label.sk-toggleable__label-arrow:before {content: \"▸\";float: left;margin-right: 0.25em;color: #696969;}#sk-container-id-4 label.sk-toggleable__label-arrow:hover:before {color: black;}#sk-container-id-4 div.sk-estimator:hover label.sk-toggleable__label-arrow:before {color: black;}#sk-container-id-4 div.sk-toggleable__content {max-height: 0;max-width: 0;overflow: hidden;text-align: left;background-color: #f0f8ff;}#sk-container-id-4 div.sk-toggleable__content pre {margin: 0.2em;color: black;border-radius: 0.25em;background-color: #f0f8ff;}#sk-container-id-4 input.sk-toggleable__control:checked~div.sk-toggleable__content {max-height: 200px;max-width: 100%;overflow: auto;}#sk-container-id-4 input.sk-toggleable__control:checked~label.sk-toggleable__label-arrow:before {content: \"▾\";}#sk-container-id-4 div.sk-estimator input.sk-toggleable__control:checked~label.sk-toggleable__label {background-color: #d4ebff;}#sk-container-id-4 div.sk-label input.sk-toggleable__control:checked~label.sk-toggleable__label {background-color: #d4ebff;}#sk-container-id-4 input.sk-hidden--visually {border: 0;clip: rect(1px 1px 1px 1px);clip: rect(1px, 1px, 1px, 1px);height: 1px;margin: -1px;overflow: hidden;padding: 0;position: absolute;width: 1px;}#sk-container-id-4 div.sk-estimator {font-family: monospace;background-color: #f0f8ff;border: 1px dotted black;border-radius: 0.25em;box-sizing: border-box;margin-bottom: 0.5em;}#sk-container-id-4 div.sk-estimator:hover {background-color: #d4ebff;}#sk-container-id-4 div.sk-parallel-item::after {content: \"\";width: 100%;border-bottom: 1px solid gray;flex-grow: 1;}#sk-container-id-4 div.sk-label:hover label.sk-toggleable__label {background-color: #d4ebff;}#sk-container-id-4 div.sk-serial::before {content: \"\";position: absolute;border-left: 1px solid gray;box-sizing: border-box;top: 0;bottom: 0;left: 50%;z-index: 0;}#sk-container-id-4 div.sk-serial {display: flex;flex-direction: column;align-items: center;background-color: white;padding-right: 0.2em;padding-left: 0.2em;position: relative;}#sk-container-id-4 div.sk-item {position: relative;z-index: 1;}#sk-container-id-4 div.sk-parallel {display: flex;align-items: stretch;justify-content: center;background-color: white;position: relative;}#sk-container-id-4 div.sk-item::before, #sk-container-id-4 div.sk-parallel-item::before {content: \"\";position: absolute;border-left: 1px solid gray;box-sizing: border-box;top: 0;bottom: 0;left: 50%;z-index: -1;}#sk-container-id-4 div.sk-parallel-item {display: flex;flex-direction: column;z-index: 1;position: relative;background-color: white;}#sk-container-id-4 div.sk-parallel-item:first-child::after {align-self: flex-end;width: 50%;}#sk-container-id-4 div.sk-parallel-item:last-child::after {align-self: flex-start;width: 50%;}#sk-container-id-4 div.sk-parallel-item:only-child::after {width: 0;}#sk-container-id-4 div.sk-dashed-wrapped {border: 1px dashed gray;margin: 0 0.4em 0.5em 0.4em;box-sizing: border-box;padding-bottom: 0.4em;background-color: white;}#sk-container-id-4 div.sk-label label {font-family: monospace;font-weight: bold;display: inline-block;line-height: 1.2em;}#sk-container-id-4 div.sk-label-container {text-align: center;}#sk-container-id-4 div.sk-container {/* jupyter's `normalize.less` sets `[hidden] { display: none; }` but bootstrap.min.css set `[hidden] { display: none !important; }` so we also need the `!important` here to be able to override the default hidden behavior on the sphinx rendered scikit-learn.org. See: https://github.com/scikit-learn/scikit-learn/issues/21755 */display: inline-block !important;position: relative;}#sk-container-id-4 div.sk-text-repr-fallback {display: none;}</style><div id=\"sk-container-id-4\" class=\"sk-top-container\"><div class=\"sk-text-repr-fallback\"><pre>MultinomialNB()</pre><b>In a Jupyter environment, please rerun this cell to show the HTML representation or trust the notebook. <br />On GitHub, the HTML representation is unable to render, please try loading this page with nbviewer.org.</b></div><div class=\"sk-container\" hidden><div class=\"sk-item\"><div class=\"sk-estimator sk-toggleable\"><input class=\"sk-toggleable__control sk-hidden--visually\" id=\"sk-estimator-id-4\" type=\"checkbox\" checked><label for=\"sk-estimator-id-4\" class=\"sk-toggleable__label sk-toggleable__label-arrow\">MultinomialNB</label><div class=\"sk-toggleable__content\"><pre>MultinomialNB()</pre></div></div></div></div></div>"
            ],
            "text/plain": [
              "MultinomialNB()"
            ]
          },
          "execution_count": 112,
          "metadata": {},
          "output_type": "execute_result"
        }
      ],
      "source": [
        "model_3 = MultinomialNB()\n",
        "model_3.fit(X_train, y_train)"
      ]
    },
    {
      "cell_type": "code",
      "execution_count": 113,
      "metadata": {},
      "outputs": [
        {
          "name": "stdout",
          "output_type": "stream",
          "text": [
            "Accuracy on train\n",
            "0.5667195263769954\n",
            "Accuracy on test\n",
            "0.5180142083897158\n"
          ]
        }
      ],
      "source": [
        "model_3 = MultinomialNB()\n",
        "model_3.fit(X_train, y_train)\n",
        "print(\"Accuracy on train\")\n",
        "print(model_3.score(X_train,y_train))\n",
        "print(\"Accuracy on test\")\n",
        "print(model_3.score(X_test,y_test))"
      ]
    },
    {
      "cell_type": "code",
      "execution_count": 115,
      "metadata": {},
      "outputs": [
        {
          "name": "stdout",
          "output_type": "stream",
          "text": [
            "Accuracy on train\n",
            "0.5429115128449096\n",
            "Accuracy on test\n",
            "0.4847767253044655\n"
          ]
        }
      ],
      "source": [
        "model_3 = MultinomialNB()\n",
        "model_3.fit(X_train, y_train)\n",
        "print(\"Accuracy on train\")\n",
        "print(model_3.score(X_train,y_train))\n",
        "print(\"Accuracy on test\")\n",
        "print(model_3.score(X_test,y_test))"
      ]
    },
    {
      "cell_type": "code",
      "execution_count": 116,
      "metadata": {},
      "outputs": [
        {
          "name": "stdout",
          "output_type": "stream",
          "text": [
            "Accuracy on train\n",
            "0.6859921767628714\n",
            "Accuracy on test\n",
            "0.40925236806495263\n"
          ]
        }
      ],
      "source": [
        "model_5 = KNeighborsClassifier()\n",
        "model_5.fit(X_train, y_train)\n",
        "print(\"Accuracy on train\")\n",
        "print(model_5.score(X_train,y_train))\n",
        "print(\"Accuracy on test\")\n",
        "print(model_5.score(X_test,y_test))"
      ]
    },
    {
      "cell_type": "code",
      "execution_count": 117,
      "metadata": {},
      "outputs": [
        {
          "name": "stdout",
          "output_type": "stream",
          "text": [
            "Accuracy on train\n",
            "0.66294534305952\n",
            "Accuracy on test\n",
            "0.4655784844384303\n"
          ]
        }
      ],
      "source": [
        "model_6 = RandomForestClassifier(max_depth=20)\n",
        "model_6.fit(X_train, y_train)\n",
        "print(\"Accuracy on train\")\n",
        "print(model_6.score(X_train,y_train))\n",
        "print(\"Accuracy on test\")\n",
        "print(model_6.score(X_test,y_test))"
      ]
    },
    {
      "cell_type": "code",
      "execution_count": 118,
      "metadata": {},
      "outputs": [],
      "source": [
        "from sklearn.model_selection import GridSearchCV\n",
        "\n",
        "def perform_grid_search(model, param_grid, X, y):\n",
        "    \"\"\"\n",
        "    Perform GridSearchCV for the given model and parameter grid.\n",
        "\n",
        "    Parameters:\n",
        "    - model: The machine learning model object (e.g., AdaBoostClassifier, RandomForestClassifier).\n",
        "    - param_grid: The dictionary specifying the hyperparameter grid to search.\n",
        "    - X: The feature matrix.\n",
        "    - y: The target vector.\n",
        "    \n",
        "    Returns:\n",
        "    - best_params: The best parameters found by GridSearchCV.\n",
        "    - best_score: The best cross-validation accuracy score.\n",
        "    \"\"\"\n",
        "    grid_search = GridSearchCV(model, param_grid, cv=5)\n",
        "    grid_search.fit(X, y)\n",
        "    \n",
        "    best_params = grid_search.best_params_\n",
        "    best_score = grid_search.best_score_\n",
        "    \n",
        "    return best_params, best_score\n"
      ]
    },
    {
      "cell_type": "code",
      "execution_count": 124,
      "metadata": {},
      "outputs": [],
      "source": [
        "models = {\n",
        "    'Multinomial Naive Bayes': (MultinomialNB(), {}),\n",
        "    'Bernoulli Naive Bayes': (BernoulliNB(), {}),\n",
        "    'Logistic Regression': (LogisticRegression(), {'C': [0.1, 1.0, 10.0]}),\n",
        "    'Decision Tree': (DecisionTreeClassifier(random_state=21), {'max_depth': [ 10,15, 20,30,]}),\n",
        "    'K-Nearest Neighbors': (KNeighborsClassifier(), {'n_neighbors': [3, 5, 7]}),\n",
        "    'AdaBoost': (AdaBoostClassifier(random_state=21), {'n_estimators': [50, 100, 150], 'learning_rate': [0.1, 0.5, 1.0]}),\n",
        "    'Random Forest': (RandomForestClassifier(random_state=21), {'n_estimators': [50, 100, 150], 'max_depth': [5, 10, 20]}),\n",
        "    'Bagging': (BaggingClassifier(random_state=21), {'n_estimators': [10, 20, 30]}),\n",
        "    'Gradient Boosting': (GradientBoostingClassifier(random_state=21), {'n_estimators': [50, 100, 150], 'learning_rate': [0.05, 0.1, 0.2]}),\n",
        "    'Extra Trees': (ExtraTreesClassifier(random_state=21), {'n_estimators': [50, 100, 150], 'max_depth': [None, 10, 20]}),\n",
        "    'Support Vector Machine': (SVC(random_state=21), {'C': [0.1, 1.0, 10.0], 'kernel': ['linear', 'rbf'],\"max_iter\":[20,10,30]}),\n",
        "    'Voting Classifier': (VotingClassifier(estimators=[('lr', LogisticRegression()), ('rf', RandomForestClassifier(random_state=21,max_depth=20)), ('svc', SVC(max_iter=20,random_state=21))], voting='hard'), {})\n",
        "}\n",
        "\n"
      ]
    },
    {
      "cell_type": "code",
      "execution_count": 125,
      "metadata": {},
      "outputs": [
        {
          "name": "stdout",
          "output_type": "stream",
          "text": [
            "Best parameters for Multinomial Naive Bayes: {}\n",
            "Best cross-validation accuracy for Multinomial Naive Bayes: 0.5196532403002432\n",
            "\n",
            "Best parameters for Bernoulli Naive Bayes: {}\n",
            "Best cross-validation accuracy for Bernoulli Naive Bayes: 0.4851887091658738\n",
            "\n"
          ]
        },
        {
          "name": "stderr",
          "output_type": "stream",
          "text": [
            "c:\\Users\\mahes\\AppData\\Local\\Programs\\Python\\Python312\\Lib\\site-packages\\sklearn\\linear_model\\_logistic.py:460: ConvergenceWarning: lbfgs failed to converge (status=1):\n",
            "STOP: TOTAL NO. of ITERATIONS REACHED LIMIT.\n",
            "\n",
            "Increase the number of iterations (max_iter) or scale the data as shown in:\n",
            "    https://scikit-learn.org/stable/modules/preprocessing.html\n",
            "Please also refer to the documentation for alternative solver options:\n",
            "    https://scikit-learn.org/stable/modules/linear_model.html#logistic-regression\n",
            "  n_iter_i = _check_optimize_result(\n",
            "c:\\Users\\mahes\\AppData\\Local\\Programs\\Python\\Python312\\Lib\\site-packages\\sklearn\\linear_model\\_logistic.py:460: ConvergenceWarning: lbfgs failed to converge (status=1):\n",
            "STOP: TOTAL NO. of ITERATIONS REACHED LIMIT.\n",
            "\n",
            "Increase the number of iterations (max_iter) or scale the data as shown in:\n",
            "    https://scikit-learn.org/stable/modules/preprocessing.html\n",
            "Please also refer to the documentation for alternative solver options:\n",
            "    https://scikit-learn.org/stable/modules/linear_model.html#logistic-regression\n",
            "  n_iter_i = _check_optimize_result(\n",
            "c:\\Users\\mahes\\AppData\\Local\\Programs\\Python\\Python312\\Lib\\site-packages\\sklearn\\linear_model\\_logistic.py:460: ConvergenceWarning: lbfgs failed to converge (status=1):\n",
            "STOP: TOTAL NO. of ITERATIONS REACHED LIMIT.\n",
            "\n",
            "Increase the number of iterations (max_iter) or scale the data as shown in:\n",
            "    https://scikit-learn.org/stable/modules/preprocessing.html\n",
            "Please also refer to the documentation for alternative solver options:\n",
            "    https://scikit-learn.org/stable/modules/linear_model.html#logistic-regression\n",
            "  n_iter_i = _check_optimize_result(\n",
            "c:\\Users\\mahes\\AppData\\Local\\Programs\\Python\\Python312\\Lib\\site-packages\\sklearn\\linear_model\\_logistic.py:460: ConvergenceWarning: lbfgs failed to converge (status=1):\n",
            "STOP: TOTAL NO. of ITERATIONS REACHED LIMIT.\n",
            "\n",
            "Increase the number of iterations (max_iter) or scale the data as shown in:\n",
            "    https://scikit-learn.org/stable/modules/preprocessing.html\n",
            "Please also refer to the documentation for alternative solver options:\n",
            "    https://scikit-learn.org/stable/modules/linear_model.html#logistic-regression\n",
            "  n_iter_i = _check_optimize_result(\n",
            "c:\\Users\\mahes\\AppData\\Local\\Programs\\Python\\Python312\\Lib\\site-packages\\sklearn\\linear_model\\_logistic.py:460: ConvergenceWarning: lbfgs failed to converge (status=1):\n",
            "STOP: TOTAL NO. of ITERATIONS REACHED LIMIT.\n",
            "\n",
            "Increase the number of iterations (max_iter) or scale the data as shown in:\n",
            "    https://scikit-learn.org/stable/modules/preprocessing.html\n",
            "Please also refer to the documentation for alternative solver options:\n",
            "    https://scikit-learn.org/stable/modules/linear_model.html#logistic-regression\n",
            "  n_iter_i = _check_optimize_result(\n",
            "c:\\Users\\mahes\\AppData\\Local\\Programs\\Python\\Python312\\Lib\\site-packages\\sklearn\\linear_model\\_logistic.py:460: ConvergenceWarning: lbfgs failed to converge (status=1):\n",
            "STOP: TOTAL NO. of ITERATIONS REACHED LIMIT.\n",
            "\n",
            "Increase the number of iterations (max_iter) or scale the data as shown in:\n",
            "    https://scikit-learn.org/stable/modules/preprocessing.html\n",
            "Please also refer to the documentation for alternative solver options:\n",
            "    https://scikit-learn.org/stable/modules/linear_model.html#logistic-regression\n",
            "  n_iter_i = _check_optimize_result(\n",
            "c:\\Users\\mahes\\AppData\\Local\\Programs\\Python\\Python312\\Lib\\site-packages\\sklearn\\linear_model\\_logistic.py:460: ConvergenceWarning: lbfgs failed to converge (status=1):\n",
            "STOP: TOTAL NO. of ITERATIONS REACHED LIMIT.\n",
            "\n",
            "Increase the number of iterations (max_iter) or scale the data as shown in:\n",
            "    https://scikit-learn.org/stable/modules/preprocessing.html\n",
            "Please also refer to the documentation for alternative solver options:\n",
            "    https://scikit-learn.org/stable/modules/linear_model.html#logistic-regression\n",
            "  n_iter_i = _check_optimize_result(\n",
            "c:\\Users\\mahes\\AppData\\Local\\Programs\\Python\\Python312\\Lib\\site-packages\\sklearn\\linear_model\\_logistic.py:460: ConvergenceWarning: lbfgs failed to converge (status=1):\n",
            "STOP: TOTAL NO. of ITERATIONS REACHED LIMIT.\n",
            "\n",
            "Increase the number of iterations (max_iter) or scale the data as shown in:\n",
            "    https://scikit-learn.org/stable/modules/preprocessing.html\n",
            "Please also refer to the documentation for alternative solver options:\n",
            "    https://scikit-learn.org/stable/modules/linear_model.html#logistic-regression\n",
            "  n_iter_i = _check_optimize_result(\n",
            "c:\\Users\\mahes\\AppData\\Local\\Programs\\Python\\Python312\\Lib\\site-packages\\sklearn\\linear_model\\_logistic.py:460: ConvergenceWarning: lbfgs failed to converge (status=1):\n",
            "STOP: TOTAL NO. of ITERATIONS REACHED LIMIT.\n",
            "\n",
            "Increase the number of iterations (max_iter) or scale the data as shown in:\n",
            "    https://scikit-learn.org/stable/modules/preprocessing.html\n",
            "Please also refer to the documentation for alternative solver options:\n",
            "    https://scikit-learn.org/stable/modules/linear_model.html#logistic-regression\n",
            "  n_iter_i = _check_optimize_result(\n",
            "c:\\Users\\mahes\\AppData\\Local\\Programs\\Python\\Python312\\Lib\\site-packages\\sklearn\\linear_model\\_logistic.py:460: ConvergenceWarning: lbfgs failed to converge (status=1):\n",
            "STOP: TOTAL NO. of ITERATIONS REACHED LIMIT.\n",
            "\n",
            "Increase the number of iterations (max_iter) or scale the data as shown in:\n",
            "    https://scikit-learn.org/stable/modules/preprocessing.html\n",
            "Please also refer to the documentation for alternative solver options:\n",
            "    https://scikit-learn.org/stable/modules/linear_model.html#logistic-regression\n",
            "  n_iter_i = _check_optimize_result(\n",
            "c:\\Users\\mahes\\AppData\\Local\\Programs\\Python\\Python312\\Lib\\site-packages\\sklearn\\linear_model\\_logistic.py:460: ConvergenceWarning: lbfgs failed to converge (status=1):\n",
            "STOP: TOTAL NO. of ITERATIONS REACHED LIMIT.\n",
            "\n",
            "Increase the number of iterations (max_iter) or scale the data as shown in:\n",
            "    https://scikit-learn.org/stable/modules/preprocessing.html\n",
            "Please also refer to the documentation for alternative solver options:\n",
            "    https://scikit-learn.org/stable/modules/linear_model.html#logistic-regression\n",
            "  n_iter_i = _check_optimize_result(\n"
          ]
        },
        {
          "name": "stdout",
          "output_type": "stream",
          "text": [
            "Best parameters for Logistic Regression: {'C': 1.0}\n",
            "Best cross-validation accuracy for Logistic Regression: 0.5594460302357542\n",
            "\n",
            "Best parameters for Decision Tree: {'max_depth': 30}\n",
            "Best cross-validation accuracy for Decision Tree: 0.33732952743418965\n",
            "\n"
          ]
        },
        {
          "ename": "",
          "evalue": "",
          "output_type": "error",
          "traceback": [
            "\u001b[1;31mThe Kernel crashed while executing code in the current cell or a previous cell. \n",
            "\u001b[1;31mPlease review the code in the cell(s) to identify a possible cause of the failure. \n",
            "\u001b[1;31mClick <a href='https://aka.ms/vscodeJupyterKernelCrash'>here</a> for more info. \n",
            "\u001b[1;31mView Jupyter <a href='command:jupyter.viewOutput'>log</a> for further details."
          ]
        }
      ],
      "source": [
        "# Perform GridSearchCV for each model\n",
        "for name, (model, param_grid) in models.items():\n",
        "    best_params, best_score = perform_grid_search(model, param_grid, X_train, y_train)\n",
        "    print(f\"Best parameters for {name}:\", best_params)\n",
        "    print(f\"Best cross-validation accuracy for {name}:\", best_score)\n",
        "    print()\n"
      ]
    },
    {
      "cell_type": "code",
      "execution_count": null,
      "metadata": {},
      "outputs": [],
      "source": [
        "\n",
        "# Evaluate on the test set\n",
        "for name, (model, _) in models.items():\n",
        "    model.fit(X_train, y_train)\n",
        "    test_score = model.score(X_test, y_test)\n",
        "    print(f\"Test accuracy for {name}:\", test_score)"
      ]
    }
  ],
  "metadata": {
    "colab": {
      "provenance": []
    },
    "kernelspec": {
      "display_name": "Python 3",
      "name": "python3"
    },
    "language_info": {
      "codemirror_mode": {
        "name": "ipython",
        "version": 3
      },
      "file_extension": ".py",
      "mimetype": "text/x-python",
      "name": "python",
      "nbconvert_exporter": "python",
      "pygments_lexer": "ipython3",
      "version": "3.12.1"
    }
  },
  "nbformat": 4,
  "nbformat_minor": 0
}
